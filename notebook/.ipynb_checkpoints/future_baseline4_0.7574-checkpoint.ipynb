{
 "cells": [
  {
   "cell_type": "code",
   "execution_count": 2,
   "metadata": {},
   "outputs": [],
   "source": [
    "import numpy as np\n",
    "import pandas as pd\n",
    "from datetime import datetime\n",
    "from sklearn.model_selection import cross_val_score\n",
    "from sklearn.linear_model import Ridge\n",
    "#import lightgbm as lgb\n",
    "from sklearn.model_selection import train_test_split\n",
    "\n",
    "import xgboost as xgb"
   ]
  },
  {
   "cell_type": "code",
   "execution_count": 3,
   "metadata": {},
   "outputs": [],
   "source": [
    "train_df = pd.read_csv(\"../input/train_data.csv\",index_col=0)\n",
    "test_df = pd.read_csv(\"../input/test_a.csv\",index_col=0)"
   ]
  },
  {
   "cell_type": "code",
   "execution_count": 4,
   "metadata": {},
   "outputs": [],
   "source": [
    "#feat_labels = train_df.columns[0:2]\n",
    "#feat_labels.head()"
   ]
  },
  {
   "cell_type": "code",
   "execution_count": 5,
   "metadata": {},
   "outputs": [
    {
     "data": {
      "text/html": [
       "<div>\n",
       "<style scoped>\n",
       "    .dataframe tbody tr th:only-of-type {\n",
       "        vertical-align: middle;\n",
       "    }\n",
       "\n",
       "    .dataframe tbody tr th {\n",
       "        vertical-align: top;\n",
       "    }\n",
       "\n",
       "    .dataframe thead th {\n",
       "        text-align: right;\n",
       "    }\n",
       "</style>\n",
       "<table border=\"1\" class=\"dataframe\">\n",
       "  <thead>\n",
       "    <tr style=\"text-align: right;\">\n",
       "      <th></th>\n",
       "      <th>area</th>\n",
       "      <th>rentType</th>\n",
       "      <th>houseType</th>\n",
       "      <th>houseFloor</th>\n",
       "      <th>totalFloor</th>\n",
       "      <th>houseToward</th>\n",
       "      <th>houseDecoration</th>\n",
       "      <th>communityName</th>\n",
       "      <th>city</th>\n",
       "      <th>region</th>\n",
       "      <th>...</th>\n",
       "      <th>landTotalPrice</th>\n",
       "      <th>landMeanPrice</th>\n",
       "      <th>totalWorkers</th>\n",
       "      <th>newWorkers</th>\n",
       "      <th>residentPopulation</th>\n",
       "      <th>pv</th>\n",
       "      <th>uv</th>\n",
       "      <th>lookNum</th>\n",
       "      <th>tradeTime</th>\n",
       "      <th>tradeMoney</th>\n",
       "    </tr>\n",
       "    <tr>\n",
       "      <th>ID</th>\n",
       "      <th></th>\n",
       "      <th></th>\n",
       "      <th></th>\n",
       "      <th></th>\n",
       "      <th></th>\n",
       "      <th></th>\n",
       "      <th></th>\n",
       "      <th></th>\n",
       "      <th></th>\n",
       "      <th></th>\n",
       "      <th></th>\n",
       "      <th></th>\n",
       "      <th></th>\n",
       "      <th></th>\n",
       "      <th></th>\n",
       "      <th></th>\n",
       "      <th></th>\n",
       "      <th></th>\n",
       "      <th></th>\n",
       "      <th></th>\n",
       "      <th></th>\n",
       "    </tr>\n",
       "  </thead>\n",
       "  <tbody>\n",
       "    <tr>\n",
       "      <th>100309852</th>\n",
       "      <td>68.06</td>\n",
       "      <td>未知方式</td>\n",
       "      <td>2室1厅1卫</td>\n",
       "      <td>低</td>\n",
       "      <td>16</td>\n",
       "      <td>暂无数据</td>\n",
       "      <td>其他</td>\n",
       "      <td>XQ00051</td>\n",
       "      <td>SH</td>\n",
       "      <td>RG00001</td>\n",
       "      <td>...</td>\n",
       "      <td>0</td>\n",
       "      <td>0.0000</td>\n",
       "      <td>28248</td>\n",
       "      <td>614</td>\n",
       "      <td>111546</td>\n",
       "      <td>1124.0</td>\n",
       "      <td>284.0</td>\n",
       "      <td>0</td>\n",
       "      <td>2018/11/28</td>\n",
       "      <td>2000.0</td>\n",
       "    </tr>\n",
       "    <tr>\n",
       "      <th>100307942</th>\n",
       "      <td>125.55</td>\n",
       "      <td>未知方式</td>\n",
       "      <td>3室2厅2卫</td>\n",
       "      <td>中</td>\n",
       "      <td>14</td>\n",
       "      <td>暂无数据</td>\n",
       "      <td>简装</td>\n",
       "      <td>XQ00130</td>\n",
       "      <td>SH</td>\n",
       "      <td>RG00002</td>\n",
       "      <td>...</td>\n",
       "      <td>0</td>\n",
       "      <td>0.0000</td>\n",
       "      <td>14823</td>\n",
       "      <td>148</td>\n",
       "      <td>157552</td>\n",
       "      <td>701.0</td>\n",
       "      <td>22.0</td>\n",
       "      <td>1</td>\n",
       "      <td>2018/12/16</td>\n",
       "      <td>2000.0</td>\n",
       "    </tr>\n",
       "    <tr>\n",
       "      <th>100307764</th>\n",
       "      <td>132.00</td>\n",
       "      <td>未知方式</td>\n",
       "      <td>3室2厅2卫</td>\n",
       "      <td>低</td>\n",
       "      <td>32</td>\n",
       "      <td>暂无数据</td>\n",
       "      <td>其他</td>\n",
       "      <td>XQ00179</td>\n",
       "      <td>SH</td>\n",
       "      <td>RG00002</td>\n",
       "      <td>...</td>\n",
       "      <td>0</td>\n",
       "      <td>0.0000</td>\n",
       "      <td>77645</td>\n",
       "      <td>520</td>\n",
       "      <td>131744</td>\n",
       "      <td>57.0</td>\n",
       "      <td>20.0</td>\n",
       "      <td>1</td>\n",
       "      <td>2018/12/22</td>\n",
       "      <td>16000.0</td>\n",
       "    </tr>\n",
       "    <tr>\n",
       "      <th>100306518</th>\n",
       "      <td>57.00</td>\n",
       "      <td>未知方式</td>\n",
       "      <td>1室1厅1卫</td>\n",
       "      <td>中</td>\n",
       "      <td>17</td>\n",
       "      <td>暂无数据</td>\n",
       "      <td>精装</td>\n",
       "      <td>XQ00313</td>\n",
       "      <td>SH</td>\n",
       "      <td>RG00002</td>\n",
       "      <td>...</td>\n",
       "      <td>332760000</td>\n",
       "      <td>3080.0331</td>\n",
       "      <td>8750</td>\n",
       "      <td>1665</td>\n",
       "      <td>253337</td>\n",
       "      <td>888.0</td>\n",
       "      <td>279.0</td>\n",
       "      <td>9</td>\n",
       "      <td>2018/12/21</td>\n",
       "      <td>1600.0</td>\n",
       "    </tr>\n",
       "    <tr>\n",
       "      <th>100305262</th>\n",
       "      <td>129.00</td>\n",
       "      <td>未知方式</td>\n",
       "      <td>3室2厅3卫</td>\n",
       "      <td>低</td>\n",
       "      <td>2</td>\n",
       "      <td>暂无数据</td>\n",
       "      <td>毛坯</td>\n",
       "      <td>XQ01257</td>\n",
       "      <td>SH</td>\n",
       "      <td>RG00003</td>\n",
       "      <td>...</td>\n",
       "      <td>0</td>\n",
       "      <td>0.0000</td>\n",
       "      <td>800</td>\n",
       "      <td>117</td>\n",
       "      <td>125309</td>\n",
       "      <td>2038.0</td>\n",
       "      <td>480.0</td>\n",
       "      <td>0</td>\n",
       "      <td>2018/11/18</td>\n",
       "      <td>2900.0</td>\n",
       "    </tr>\n",
       "  </tbody>\n",
       "</table>\n",
       "<p>5 rows × 50 columns</p>\n",
       "</div>"
      ],
      "text/plain": [
       "             area rentType houseType houseFloor  totalFloor houseToward  \\\n",
       "ID                                                                        \n",
       "100309852   68.06     未知方式    2室1厅1卫          低          16        暂无数据   \n",
       "100307942  125.55     未知方式    3室2厅2卫          中          14        暂无数据   \n",
       "100307764  132.00     未知方式    3室2厅2卫          低          32        暂无数据   \n",
       "100306518   57.00     未知方式    1室1厅1卫          中          17        暂无数据   \n",
       "100305262  129.00     未知方式    3室2厅3卫          低           2        暂无数据   \n",
       "\n",
       "          houseDecoration communityName city   region     ...      \\\n",
       "ID                                                        ...       \n",
       "100309852              其他       XQ00051   SH  RG00001     ...       \n",
       "100307942              简装       XQ00130   SH  RG00002     ...       \n",
       "100307764              其他       XQ00179   SH  RG00002     ...       \n",
       "100306518              精装       XQ00313   SH  RG00002     ...       \n",
       "100305262              毛坯       XQ01257   SH  RG00003     ...       \n",
       "\n",
       "          landTotalPrice landMeanPrice  totalWorkers  newWorkers  \\\n",
       "ID                                                                 \n",
       "100309852              0        0.0000         28248         614   \n",
       "100307942              0        0.0000         14823         148   \n",
       "100307764              0        0.0000         77645         520   \n",
       "100306518      332760000     3080.0331          8750        1665   \n",
       "100305262              0        0.0000           800         117   \n",
       "\n",
       "           residentPopulation      pv     uv  lookNum   tradeTime  tradeMoney  \n",
       "ID                                                                             \n",
       "100309852              111546  1124.0  284.0        0  2018/11/28      2000.0  \n",
       "100307942              157552   701.0   22.0        1  2018/12/16      2000.0  \n",
       "100307764              131744    57.0   20.0        1  2018/12/22     16000.0  \n",
       "100306518              253337   888.0  279.0        9  2018/12/21      1600.0  \n",
       "100305262              125309  2038.0  480.0        0  2018/11/18      2900.0  \n",
       "\n",
       "[5 rows x 50 columns]"
      ]
     },
     "execution_count": 5,
     "metadata": {},
     "output_type": "execute_result"
    }
   ],
   "source": [
    "train_df.head(5)\n",
    "#train_df.shape"
   ]
  },
  {
   "cell_type": "code",
   "execution_count": 6,
   "metadata": {},
   "outputs": [],
   "source": [
    "#test_df.head(10)\n",
    "#test_df.shape"
   ]
  },
  {
   "cell_type": "code",
   "execution_count": 7,
   "metadata": {},
   "outputs": [],
   "source": [
    "#train_df.describe()"
   ]
  },
  {
   "cell_type": "code",
   "execution_count": 8,
   "metadata": {},
   "outputs": [
    {
     "data": {
      "text/plain": [
       "ID\n",
       "100007093    99999999.99\n",
       "100028451    50000000.00\n",
       "100042658    10000000.00\n",
       "100022073      450000.00\n",
       "100047710      450000.00\n",
       "100084542      450000.00\n",
       "100310820      450000.00\n",
       "100012093      430000.00\n",
       "100083675      380000.00\n",
       "100089204      370000.00\n",
       "Name: tradeMoney, dtype: float64"
      ]
     },
     "execution_count": 8,
     "metadata": {},
     "output_type": "execute_result"
    }
   ],
   "source": [
    "#train_df(train_df[\"tradeMoney\"]>1000000).value_counts(ascending =False)\n",
    "train_df[\"tradeMoney\"].sort_values(ascending =False).head(10)"
   ]
  },
  {
   "cell_type": "markdown",
   "metadata": {},
   "source": [
    "tradeMoney有离群点,对该列特征进行处理"
   ]
  },
  {
   "cell_type": "code",
   "execution_count": 9,
   "metadata": {},
   "outputs": [],
   "source": [
    "mean_tradeMoney = train_df[\"tradeMoney\"].mean()\n",
    "train_df.loc[train_df[\"tradeMoney\"] == 99999999.99,\"tradeMoney\"] = mean_tradeMoney\n",
    "train_df.loc[train_df[\"tradeMoney\"] == 50000000.00,\"tradeMoney\"] = mean_tradeMoney\n",
    "train_df.loc[train_df[\"tradeMoney\"] == 10000000.00,\"tradeMoney\"] = mean_tradeMoney"
   ]
  },
  {
   "cell_type": "markdown",
   "metadata": {},
   "source": [
    "由此可见 测试集比训练集少了一列特征\"tradeMoney\",这就是我们测试集所要预测的label值"
   ]
  },
  {
   "cell_type": "code",
   "execution_count": 10,
   "metadata": {},
   "outputs": [
    {
     "name": "stdout",
     "output_type": "stream",
     "text": [
      "(41440, 1)\n"
     ]
    }
   ],
   "source": [
    "y_train = train_df[[\"tradeMoney\"]].copy()\n",
    "y_train.head()\n",
    "print(y_train.shape)"
   ]
  },
  {
   "cell_type": "code",
   "execution_count": 11,
   "metadata": {},
   "outputs": [
    {
     "name": "stdout",
     "output_type": "stream",
     "text": [
      "(41440, 1)\n"
     ]
    }
   ],
   "source": [
    "print(y_train.shape)"
   ]
  },
  {
   "cell_type": "code",
   "execution_count": 12,
   "metadata": {},
   "outputs": [],
   "source": [
    "train_df.drop('tradeMoney',axis=1, inplace=True) "
   ]
  },
  {
   "cell_type": "code",
   "execution_count": null,
   "metadata": {},
   "outputs": [],
   "source": []
  },
  {
   "cell_type": "markdown",
   "metadata": {},
   "source": [
    "合并训练集和测试集,以方便进行处理"
   ]
  },
  {
   "cell_type": "code",
   "execution_count": 13,
   "metadata": {},
   "outputs": [],
   "source": [
    "all_df = pd.concat((train_df, test_df), axis=0)"
   ]
  },
  {
   "cell_type": "code",
   "execution_count": 14,
   "metadata": {},
   "outputs": [
    {
     "data": {
      "text/plain": [
       "(43909, 49)"
      ]
     },
     "execution_count": 14,
     "metadata": {},
     "output_type": "execute_result"
    }
   ],
   "source": [
    "all_df.shape"
   ]
  },
  {
   "cell_type": "code",
   "execution_count": 15,
   "metadata": {},
   "outputs": [
    {
     "data": {
      "text/plain": [
       "uv                  20\n",
       "pv                  20\n",
       "tradeTime            0\n",
       "buildYear            0\n",
       "gymNum               0\n",
       "drugStoreNum         0\n",
       "hospitalNum          0\n",
       "privateSchoolNum     0\n",
       "schoolNum            0\n",
       "interSchoolNum       0\n",
       "dtype: int64"
      ]
     },
     "execution_count": 15,
     "metadata": {},
     "output_type": "execute_result"
    }
   ],
   "source": [
    "#all_df.info()  #由此可见,除了\"uv\"特征和\"pv\"特征缺失20个以外,其他的不存在空的特征,因此无需对数据集进行填充.\n",
    "all_df.isnull().sum().sort_values(ascending=False).head(10)"
   ]
  },
  {
   "cell_type": "code",
   "execution_count": 16,
   "metadata": {},
   "outputs": [],
   "source": [
    "#all_df[\"area\"].value_counts()\n",
    "#\"area\"特征样数比较多,但是没法处理,暂时舍弃\n",
    "#all_df.drop('area',axis=1, inplace=True)  "
   ]
  },
  {
   "cell_type": "code",
   "execution_count": 17,
   "metadata": {},
   "outputs": [
    {
     "data": {
      "text/plain": [
       "未知方式    32944\n",
       "整租       5736\n",
       "合租       5224\n",
       "--          5\n",
       "Name: rentType, dtype: int64"
      ]
     },
     "execution_count": 17,
     "metadata": {},
     "output_type": "execute_result"
    }
   ],
   "source": [
    "all_df[\"rentType\"].value_counts()"
   ]
  },
  {
   "cell_type": "code",
   "execution_count": 18,
   "metadata": {},
   "outputs": [],
   "source": [
    "#all_df.drop('rentType',axis=1, inplace=True)   #由于\"rentType\"这一列特征缺失值太多,所以直接删除这一列特征"
   ]
  },
  {
   "cell_type": "code",
   "execution_count": 19,
   "metadata": {},
   "outputs": [
    {
     "data": {
      "text/html": [
       "<div>\n",
       "<style scoped>\n",
       "    .dataframe tbody tr th:only-of-type {\n",
       "        vertical-align: middle;\n",
       "    }\n",
       "\n",
       "    .dataframe tbody tr th {\n",
       "        vertical-align: top;\n",
       "    }\n",
       "\n",
       "    .dataframe thead th {\n",
       "        text-align: right;\n",
       "    }\n",
       "</style>\n",
       "<table border=\"1\" class=\"dataframe\">\n",
       "  <thead>\n",
       "    <tr style=\"text-align: right;\">\n",
       "      <th></th>\n",
       "      <th>area</th>\n",
       "      <th>rentType</th>\n",
       "      <th>houseType</th>\n",
       "      <th>houseFloor</th>\n",
       "      <th>totalFloor</th>\n",
       "      <th>houseToward</th>\n",
       "      <th>houseDecoration</th>\n",
       "      <th>communityName</th>\n",
       "      <th>city</th>\n",
       "      <th>region</th>\n",
       "      <th>...</th>\n",
       "      <th>tradeLandArea</th>\n",
       "      <th>landTotalPrice</th>\n",
       "      <th>landMeanPrice</th>\n",
       "      <th>totalWorkers</th>\n",
       "      <th>newWorkers</th>\n",
       "      <th>residentPopulation</th>\n",
       "      <th>pv</th>\n",
       "      <th>uv</th>\n",
       "      <th>lookNum</th>\n",
       "      <th>tradeTime</th>\n",
       "    </tr>\n",
       "    <tr>\n",
       "      <th>ID</th>\n",
       "      <th></th>\n",
       "      <th></th>\n",
       "      <th></th>\n",
       "      <th></th>\n",
       "      <th></th>\n",
       "      <th></th>\n",
       "      <th></th>\n",
       "      <th></th>\n",
       "      <th></th>\n",
       "      <th></th>\n",
       "      <th></th>\n",
       "      <th></th>\n",
       "      <th></th>\n",
       "      <th></th>\n",
       "      <th></th>\n",
       "      <th></th>\n",
       "      <th></th>\n",
       "      <th></th>\n",
       "      <th></th>\n",
       "      <th></th>\n",
       "      <th></th>\n",
       "    </tr>\n",
       "  </thead>\n",
       "  <tbody>\n",
       "    <tr>\n",
       "      <th>100309852</th>\n",
       "      <td>68.06</td>\n",
       "      <td>未知方式</td>\n",
       "      <td>2室1厅1卫</td>\n",
       "      <td>低</td>\n",
       "      <td>16</td>\n",
       "      <td>暂无数据</td>\n",
       "      <td>其他</td>\n",
       "      <td>XQ00051</td>\n",
       "      <td>SH</td>\n",
       "      <td>RG00001</td>\n",
       "      <td>...</td>\n",
       "      <td>0.0</td>\n",
       "      <td>0</td>\n",
       "      <td>0.0000</td>\n",
       "      <td>28248</td>\n",
       "      <td>614</td>\n",
       "      <td>111546</td>\n",
       "      <td>1124.0</td>\n",
       "      <td>284.0</td>\n",
       "      <td>0</td>\n",
       "      <td>2018/11/28</td>\n",
       "    </tr>\n",
       "    <tr>\n",
       "      <th>100307942</th>\n",
       "      <td>125.55</td>\n",
       "      <td>未知方式</td>\n",
       "      <td>3室2厅2卫</td>\n",
       "      <td>中</td>\n",
       "      <td>14</td>\n",
       "      <td>暂无数据</td>\n",
       "      <td>简装</td>\n",
       "      <td>XQ00130</td>\n",
       "      <td>SH</td>\n",
       "      <td>RG00002</td>\n",
       "      <td>...</td>\n",
       "      <td>0.0</td>\n",
       "      <td>0</td>\n",
       "      <td>0.0000</td>\n",
       "      <td>14823</td>\n",
       "      <td>148</td>\n",
       "      <td>157552</td>\n",
       "      <td>701.0</td>\n",
       "      <td>22.0</td>\n",
       "      <td>1</td>\n",
       "      <td>2018/12/16</td>\n",
       "    </tr>\n",
       "    <tr>\n",
       "      <th>100307764</th>\n",
       "      <td>132.00</td>\n",
       "      <td>未知方式</td>\n",
       "      <td>3室2厅2卫</td>\n",
       "      <td>低</td>\n",
       "      <td>32</td>\n",
       "      <td>暂无数据</td>\n",
       "      <td>其他</td>\n",
       "      <td>XQ00179</td>\n",
       "      <td>SH</td>\n",
       "      <td>RG00002</td>\n",
       "      <td>...</td>\n",
       "      <td>0.0</td>\n",
       "      <td>0</td>\n",
       "      <td>0.0000</td>\n",
       "      <td>77645</td>\n",
       "      <td>520</td>\n",
       "      <td>131744</td>\n",
       "      <td>57.0</td>\n",
       "      <td>20.0</td>\n",
       "      <td>1</td>\n",
       "      <td>2018/12/22</td>\n",
       "    </tr>\n",
       "    <tr>\n",
       "      <th>100306518</th>\n",
       "      <td>57.00</td>\n",
       "      <td>未知方式</td>\n",
       "      <td>1室1厅1卫</td>\n",
       "      <td>中</td>\n",
       "      <td>17</td>\n",
       "      <td>暂无数据</td>\n",
       "      <td>精装</td>\n",
       "      <td>XQ00313</td>\n",
       "      <td>SH</td>\n",
       "      <td>RG00002</td>\n",
       "      <td>...</td>\n",
       "      <td>108037.8</td>\n",
       "      <td>332760000</td>\n",
       "      <td>3080.0331</td>\n",
       "      <td>8750</td>\n",
       "      <td>1665</td>\n",
       "      <td>253337</td>\n",
       "      <td>888.0</td>\n",
       "      <td>279.0</td>\n",
       "      <td>9</td>\n",
       "      <td>2018/12/21</td>\n",
       "    </tr>\n",
       "    <tr>\n",
       "      <th>100305262</th>\n",
       "      <td>129.00</td>\n",
       "      <td>未知方式</td>\n",
       "      <td>3室2厅3卫</td>\n",
       "      <td>低</td>\n",
       "      <td>2</td>\n",
       "      <td>暂无数据</td>\n",
       "      <td>毛坯</td>\n",
       "      <td>XQ01257</td>\n",
       "      <td>SH</td>\n",
       "      <td>RG00003</td>\n",
       "      <td>...</td>\n",
       "      <td>0.0</td>\n",
       "      <td>0</td>\n",
       "      <td>0.0000</td>\n",
       "      <td>800</td>\n",
       "      <td>117</td>\n",
       "      <td>125309</td>\n",
       "      <td>2038.0</td>\n",
       "      <td>480.0</td>\n",
       "      <td>0</td>\n",
       "      <td>2018/11/18</td>\n",
       "    </tr>\n",
       "  </tbody>\n",
       "</table>\n",
       "<p>5 rows × 49 columns</p>\n",
       "</div>"
      ],
      "text/plain": [
       "             area rentType houseType houseFloor  totalFloor houseToward  \\\n",
       "ID                                                                        \n",
       "100309852   68.06     未知方式    2室1厅1卫          低          16        暂无数据   \n",
       "100307942  125.55     未知方式    3室2厅2卫          中          14        暂无数据   \n",
       "100307764  132.00     未知方式    3室2厅2卫          低          32        暂无数据   \n",
       "100306518   57.00     未知方式    1室1厅1卫          中          17        暂无数据   \n",
       "100305262  129.00     未知方式    3室2厅3卫          低           2        暂无数据   \n",
       "\n",
       "          houseDecoration communityName city   region     ...      \\\n",
       "ID                                                        ...       \n",
       "100309852              其他       XQ00051   SH  RG00001     ...       \n",
       "100307942              简装       XQ00130   SH  RG00002     ...       \n",
       "100307764              其他       XQ00179   SH  RG00002     ...       \n",
       "100306518              精装       XQ00313   SH  RG00002     ...       \n",
       "100305262              毛坯       XQ01257   SH  RG00003     ...       \n",
       "\n",
       "          tradeLandArea landTotalPrice  landMeanPrice  totalWorkers  \\\n",
       "ID                                                                    \n",
       "100309852           0.0              0         0.0000         28248   \n",
       "100307942           0.0              0         0.0000         14823   \n",
       "100307764           0.0              0         0.0000         77645   \n",
       "100306518      108037.8      332760000      3080.0331          8750   \n",
       "100305262           0.0              0         0.0000           800   \n",
       "\n",
       "           newWorkers  residentPopulation      pv     uv  lookNum   tradeTime  \n",
       "ID                                                                             \n",
       "100309852         614              111546  1124.0  284.0        0  2018/11/28  \n",
       "100307942         148              157552   701.0   22.0        1  2018/12/16  \n",
       "100307764         520              131744    57.0   20.0        1  2018/12/22  \n",
       "100306518        1665              253337   888.0  279.0        9  2018/12/21  \n",
       "100305262         117              125309  2038.0  480.0        0  2018/11/18  \n",
       "\n",
       "[5 rows x 49 columns]"
      ]
     },
     "execution_count": 19,
     "metadata": {},
     "output_type": "execute_result"
    }
   ],
   "source": [
    "all_df.head()"
   ]
  },
  {
   "cell_type": "code",
   "execution_count": 20,
   "metadata": {},
   "outputs": [
    {
     "data": {
      "text/plain": [
       "array(['2室1厅1卫', '3室2厅2卫', '1室1厅1卫', '3室2厅3卫', '4室3厅3卫', '2室2厅1卫',\n",
       "       '3室2厅1卫', '3室1厅1卫', '5室2厅3卫', '2室1厅2卫', '4室2厅2卫', '1室0厅1卫',\n",
       "       '4室2厅3卫', '1室0厅0卫', '2室2厅2卫', '2室0厅1卫', '1室2厅1卫', '6室3厅4卫',\n",
       "       '4室2厅4卫', '4室2厅1卫', '5室3厅5卫', '4室3厅2卫', '6室3厅2卫', '5室2厅2卫',\n",
       "       '5室2厅4卫', '1室1厅2卫', '4室1厅3卫', '3室0厅1卫', '5室3厅4卫', '5室5厅4卫',\n",
       "       '4室3厅5卫', '4室3厅4卫', '0室0厅1卫', '5室2厅5卫', '7室2厅3卫', '3室2厅4卫',\n",
       "       '3室3厅2卫', '3室1厅2卫', '5室4厅5卫', '5室3厅3卫', '5室2厅6卫', '5室3厅1卫',\n",
       "       '3室4厅4卫', '6室2厅4卫', '6室1厅4卫', '3室1厅3卫', '6室2厅3卫', '5室4厅3卫',\n",
       "       '2室2厅3卫', '4室1厅1卫', '5室1厅1卫', '1室2厅2卫', '6室1厅1卫', '4室1厅2卫',\n",
       "       '5室3厅6卫', '4室2厅5卫', '6室2厅2卫', '5室1厅2卫', '5室4厅4卫', '2室3厅1卫',\n",
       "       '6室4厅2卫', '7室1厅7卫', '3室3厅4卫', '3室2厅5卫', '6室3厅5卫', '4室0厅1卫',\n",
       "       '5室4厅2卫', '7室4厅3卫', '6室3厅3卫', '6室2厅5卫', '6室2厅7卫', '4室0厅4卫',\n",
       "       '2室2厅0卫', '3室3厅3卫', '8室3厅4卫', '6室2厅6卫', '1室1厅0卫', '2室1厅0卫',\n",
       "       '5室3厅2卫', '5室2厅1卫', '2室0厅0卫', '7室1厅1卫', '6室2厅1卫', '8室2厅4卫',\n",
       "       '7室2厅1卫', '2室0厅2卫', '3室0厅2卫', '4室0厅2卫', '3室1厅0卫', '3室0厅0卫',\n",
       "       '9室2厅5卫', '6室4厅5卫', '4室4厅2卫', '4室1厅4卫', '8室4厅4卫', '7室2厅4卫',\n",
       "       '7室1厅3卫', '8室2厅3卫', '7室3厅4卫', '5室1厅5卫', '2室1厅3卫', '6室4厅4卫',\n",
       "       '5室1厅3卫', '9室3厅8卫', '1室2厅0卫', '3室2厅0卫', '6室0厅6卫'], dtype=object)"
      ]
     },
     "execution_count": 20,
     "metadata": {},
     "output_type": "execute_result"
    }
   ],
   "source": [
    "#提取特征一:\"houseType\"\n",
    "all_df[\"houseType\"].unique()  #查看一下,一共有多少种类型"
   ]
  },
  {
   "cell_type": "markdown",
   "metadata": {},
   "source": [
    "查看数据集的函数: head,  info,  unique,  describe,  sort_values(),  value_counts(),  dtypes()"
   ]
  },
  {
   "cell_type": "code",
   "execution_count": 21,
   "metadata": {},
   "outputs": [
    {
     "data": {
      "text/plain": [
       "array(['低', '中', '高'], dtype=object)"
      ]
     },
     "execution_count": 21,
     "metadata": {},
     "output_type": "execute_result"
    }
   ],
   "source": [
    "#提取特征二:\"houseFloor\"\n",
    "all_df[\"houseFloor\"].unique()"
   ]
  },
  {
   "cell_type": "code",
   "execution_count": 22,
   "metadata": {},
   "outputs": [],
   "source": [
    "#用replace替换得到的1,2,3是object类型\n",
    "#all_df[\"houseFloor\"] =all_df[\"houseFloor\"].replace(\"低\",1)\n",
    "#all_df[\"houseFloor\"] =all_df[\"houseFloor\"].replace(\"中\",2)\n",
    "#all_df[\"houseFloor\"] =all_df[\"houseFloor\"].replace(\"高\",3)\n",
    "all_df.loc[all_df[\"houseFloor\"] == \"低\",\"houseFloor\"] = 0\n",
    "all_df.loc[all_df[\"houseFloor\"] == \"中\",\"houseFloor\"] = 1\n",
    "all_df.loc[all_df[\"houseFloor\"] == \"高\",\"houseFloor\"] = 2"
   ]
  },
  {
   "cell_type": "code",
   "execution_count": 23,
   "metadata": {},
   "outputs": [
    {
     "data": {
      "text/plain": [
       "array([0, 1, 2], dtype=int64)"
      ]
     },
     "execution_count": 23,
     "metadata": {},
     "output_type": "execute_result"
    }
   ],
   "source": [
    "all_df[\"houseFloor\"].unique()"
   ]
  },
  {
   "cell_type": "code",
   "execution_count": 24,
   "metadata": {},
   "outputs": [
    {
     "data": {
      "text/plain": [
       "array([16, 14, 32, 17,  2, 18,  5,  6,  7, 21,  1,  3, 19, 29, 12,  8,  4,\n",
       "       22, 30, 20, 24, 25, 26, 28, 15, 10, 11, 13, 33,  9, 23, 37, 27, 56,\n",
       "       38, 40, 60, 35, 49, 41, 31, 62, 36, 53, 59, 39, 43, 61, 45, 34, 58,\n",
       "       51, 47,  0, 88], dtype=int64)"
      ]
     },
     "execution_count": 24,
     "metadata": {},
     "output_type": "execute_result"
    }
   ],
   "source": [
    "#提取特征三:\"totalFloor\n",
    "all_df[\"totalFloor\"].unique()"
   ]
  },
  {
   "cell_type": "code",
   "execution_count": 25,
   "metadata": {},
   "outputs": [
    {
     "data": {
      "text/plain": [
       "南     37179\n",
       "南北     2784\n",
       "北      2043\n",
       "东南      658\n",
       "东       553\n",
       "西南      323\n",
       "西       275\n",
       "西北       70\n",
       "东西       24\n",
       "Name: houseToward, dtype: int64"
      ]
     },
     "execution_count": 25,
     "metadata": {},
     "output_type": "execute_result"
    }
   ],
   "source": [
    "all_df[\"houseToward\"].value_counts()\n",
    "#没法处理暂时舍去\n",
    "#all_df.drop('houseToward',axis=1, inplace=True) \n",
    "all_df[\"houseToward\"]=all_df[\"houseToward\"].replace(\"暂无数据\",\"南\")\n",
    "all_df[\"houseToward\"].value_counts()"
   ]
  },
  {
   "cell_type": "code",
   "execution_count": 26,
   "metadata": {},
   "outputs": [
    {
     "data": {
      "text/plain": [
       "其他    31021\n",
       "精装    11288\n",
       "简装     1273\n",
       "毛坯      327\n",
       "Name: houseDecoration, dtype: int64"
      ]
     },
     "execution_count": 26,
     "metadata": {},
     "output_type": "execute_result"
    }
   ],
   "source": [
    "all_df[\"houseDecoration\"].value_counts()  \n",
    "#缺失值有点多,这个特征比较重要,但是目前没法处理,暂时舍去"
   ]
  },
  {
   "cell_type": "code",
   "execution_count": 27,
   "metadata": {},
   "outputs": [],
   "source": [
    "#all_df.drop('houseDecoration',axis=1, inplace=True) "
   ]
  },
  {
   "cell_type": "code",
   "execution_count": 28,
   "metadata": {},
   "outputs": [
    {
     "data": {
      "text/html": [
       "<div>\n",
       "<style scoped>\n",
       "    .dataframe tbody tr th:only-of-type {\n",
       "        vertical-align: middle;\n",
       "    }\n",
       "\n",
       "    .dataframe tbody tr th {\n",
       "        vertical-align: top;\n",
       "    }\n",
       "\n",
       "    .dataframe thead th {\n",
       "        text-align: right;\n",
       "    }\n",
       "</style>\n",
       "<table border=\"1\" class=\"dataframe\">\n",
       "  <thead>\n",
       "    <tr style=\"text-align: right;\">\n",
       "      <th></th>\n",
       "      <th>area</th>\n",
       "      <th>rentType</th>\n",
       "      <th>houseType</th>\n",
       "      <th>houseFloor</th>\n",
       "      <th>totalFloor</th>\n",
       "      <th>houseToward</th>\n",
       "      <th>houseDecoration</th>\n",
       "      <th>communityName</th>\n",
       "      <th>city</th>\n",
       "      <th>region</th>\n",
       "      <th>...</th>\n",
       "      <th>tradeLandArea</th>\n",
       "      <th>landTotalPrice</th>\n",
       "      <th>landMeanPrice</th>\n",
       "      <th>totalWorkers</th>\n",
       "      <th>newWorkers</th>\n",
       "      <th>residentPopulation</th>\n",
       "      <th>pv</th>\n",
       "      <th>uv</th>\n",
       "      <th>lookNum</th>\n",
       "      <th>tradeTime</th>\n",
       "    </tr>\n",
       "    <tr>\n",
       "      <th>ID</th>\n",
       "      <th></th>\n",
       "      <th></th>\n",
       "      <th></th>\n",
       "      <th></th>\n",
       "      <th></th>\n",
       "      <th></th>\n",
       "      <th></th>\n",
       "      <th></th>\n",
       "      <th></th>\n",
       "      <th></th>\n",
       "      <th></th>\n",
       "      <th></th>\n",
       "      <th></th>\n",
       "      <th></th>\n",
       "      <th></th>\n",
       "      <th></th>\n",
       "      <th></th>\n",
       "      <th></th>\n",
       "      <th></th>\n",
       "      <th></th>\n",
       "      <th></th>\n",
       "    </tr>\n",
       "  </thead>\n",
       "  <tbody>\n",
       "    <tr>\n",
       "      <th>100309852</th>\n",
       "      <td>68.06</td>\n",
       "      <td>未知方式</td>\n",
       "      <td>2室1厅1卫</td>\n",
       "      <td>0</td>\n",
       "      <td>16</td>\n",
       "      <td>南</td>\n",
       "      <td>其他</td>\n",
       "      <td>XQ00051</td>\n",
       "      <td>SH</td>\n",
       "      <td>RG00001</td>\n",
       "      <td>...</td>\n",
       "      <td>0.0</td>\n",
       "      <td>0</td>\n",
       "      <td>0.0000</td>\n",
       "      <td>28248</td>\n",
       "      <td>614</td>\n",
       "      <td>111546</td>\n",
       "      <td>1124.0</td>\n",
       "      <td>284.0</td>\n",
       "      <td>0</td>\n",
       "      <td>2018/11/28</td>\n",
       "    </tr>\n",
       "    <tr>\n",
       "      <th>100307942</th>\n",
       "      <td>125.55</td>\n",
       "      <td>未知方式</td>\n",
       "      <td>3室2厅2卫</td>\n",
       "      <td>1</td>\n",
       "      <td>14</td>\n",
       "      <td>南</td>\n",
       "      <td>简装</td>\n",
       "      <td>XQ00130</td>\n",
       "      <td>SH</td>\n",
       "      <td>RG00002</td>\n",
       "      <td>...</td>\n",
       "      <td>0.0</td>\n",
       "      <td>0</td>\n",
       "      <td>0.0000</td>\n",
       "      <td>14823</td>\n",
       "      <td>148</td>\n",
       "      <td>157552</td>\n",
       "      <td>701.0</td>\n",
       "      <td>22.0</td>\n",
       "      <td>1</td>\n",
       "      <td>2018/12/16</td>\n",
       "    </tr>\n",
       "    <tr>\n",
       "      <th>100307764</th>\n",
       "      <td>132.00</td>\n",
       "      <td>未知方式</td>\n",
       "      <td>3室2厅2卫</td>\n",
       "      <td>0</td>\n",
       "      <td>32</td>\n",
       "      <td>南</td>\n",
       "      <td>其他</td>\n",
       "      <td>XQ00179</td>\n",
       "      <td>SH</td>\n",
       "      <td>RG00002</td>\n",
       "      <td>...</td>\n",
       "      <td>0.0</td>\n",
       "      <td>0</td>\n",
       "      <td>0.0000</td>\n",
       "      <td>77645</td>\n",
       "      <td>520</td>\n",
       "      <td>131744</td>\n",
       "      <td>57.0</td>\n",
       "      <td>20.0</td>\n",
       "      <td>1</td>\n",
       "      <td>2018/12/22</td>\n",
       "    </tr>\n",
       "    <tr>\n",
       "      <th>100306518</th>\n",
       "      <td>57.00</td>\n",
       "      <td>未知方式</td>\n",
       "      <td>1室1厅1卫</td>\n",
       "      <td>1</td>\n",
       "      <td>17</td>\n",
       "      <td>南</td>\n",
       "      <td>精装</td>\n",
       "      <td>XQ00313</td>\n",
       "      <td>SH</td>\n",
       "      <td>RG00002</td>\n",
       "      <td>...</td>\n",
       "      <td>108037.8</td>\n",
       "      <td>332760000</td>\n",
       "      <td>3080.0331</td>\n",
       "      <td>8750</td>\n",
       "      <td>1665</td>\n",
       "      <td>253337</td>\n",
       "      <td>888.0</td>\n",
       "      <td>279.0</td>\n",
       "      <td>9</td>\n",
       "      <td>2018/12/21</td>\n",
       "    </tr>\n",
       "    <tr>\n",
       "      <th>100305262</th>\n",
       "      <td>129.00</td>\n",
       "      <td>未知方式</td>\n",
       "      <td>3室2厅3卫</td>\n",
       "      <td>0</td>\n",
       "      <td>2</td>\n",
       "      <td>南</td>\n",
       "      <td>毛坯</td>\n",
       "      <td>XQ01257</td>\n",
       "      <td>SH</td>\n",
       "      <td>RG00003</td>\n",
       "      <td>...</td>\n",
       "      <td>0.0</td>\n",
       "      <td>0</td>\n",
       "      <td>0.0000</td>\n",
       "      <td>800</td>\n",
       "      <td>117</td>\n",
       "      <td>125309</td>\n",
       "      <td>2038.0</td>\n",
       "      <td>480.0</td>\n",
       "      <td>0</td>\n",
       "      <td>2018/11/18</td>\n",
       "    </tr>\n",
       "  </tbody>\n",
       "</table>\n",
       "<p>5 rows × 49 columns</p>\n",
       "</div>"
      ],
      "text/plain": [
       "             area rentType houseType  houseFloor  totalFloor houseToward  \\\n",
       "ID                                                                         \n",
       "100309852   68.06     未知方式    2室1厅1卫           0          16           南   \n",
       "100307942  125.55     未知方式    3室2厅2卫           1          14           南   \n",
       "100307764  132.00     未知方式    3室2厅2卫           0          32           南   \n",
       "100306518   57.00     未知方式    1室1厅1卫           1          17           南   \n",
       "100305262  129.00     未知方式    3室2厅3卫           0           2           南   \n",
       "\n",
       "          houseDecoration communityName city   region     ...      \\\n",
       "ID                                                        ...       \n",
       "100309852              其他       XQ00051   SH  RG00001     ...       \n",
       "100307942              简装       XQ00130   SH  RG00002     ...       \n",
       "100307764              其他       XQ00179   SH  RG00002     ...       \n",
       "100306518              精装       XQ00313   SH  RG00002     ...       \n",
       "100305262              毛坯       XQ01257   SH  RG00003     ...       \n",
       "\n",
       "          tradeLandArea landTotalPrice  landMeanPrice  totalWorkers  \\\n",
       "ID                                                                    \n",
       "100309852           0.0              0         0.0000         28248   \n",
       "100307942           0.0              0         0.0000         14823   \n",
       "100307764           0.0              0         0.0000         77645   \n",
       "100306518      108037.8      332760000      3080.0331          8750   \n",
       "100305262           0.0              0         0.0000           800   \n",
       "\n",
       "           newWorkers  residentPopulation      pv     uv  lookNum   tradeTime  \n",
       "ID                                                                             \n",
       "100309852         614              111546  1124.0  284.0        0  2018/11/28  \n",
       "100307942         148              157552   701.0   22.0        1  2018/12/16  \n",
       "100307764         520              131744    57.0   20.0        1  2018/12/22  \n",
       "100306518        1665              253337   888.0  279.0        9  2018/12/21  \n",
       "100305262         117              125309  2038.0  480.0        0  2018/11/18  \n",
       "\n",
       "[5 rows x 49 columns]"
      ]
     },
     "execution_count": 28,
     "metadata": {},
     "output_type": "execute_result"
    }
   ],
   "source": [
    "all_df.head()"
   ]
  },
  {
   "cell_type": "code",
   "execution_count": 29,
   "metadata": {},
   "outputs": [],
   "source": [
    "#all_df[\"communityName\"].value_counts()   \n",
    "#特征没法处理,暂时舍去\n",
    "all_df.drop('communityName',axis=1, inplace=True) "
   ]
  },
  {
   "cell_type": "code",
   "execution_count": 30,
   "metadata": {},
   "outputs": [],
   "source": [
    "#all_df[\"city\"].value_counts()\n",
    "#由此可见,city只有一种,所以可以直接删去\n",
    "all_df.drop('city',axis=1, inplace=True) "
   ]
  },
  {
   "cell_type": "code",
   "execution_count": 31,
   "metadata": {},
   "outputs": [
    {
     "data": {
      "text/html": [
       "<div>\n",
       "<style scoped>\n",
       "    .dataframe tbody tr th:only-of-type {\n",
       "        vertical-align: middle;\n",
       "    }\n",
       "\n",
       "    .dataframe tbody tr th {\n",
       "        vertical-align: top;\n",
       "    }\n",
       "\n",
       "    .dataframe thead th {\n",
       "        text-align: right;\n",
       "    }\n",
       "</style>\n",
       "<table border=\"1\" class=\"dataframe\">\n",
       "  <thead>\n",
       "    <tr style=\"text-align: right;\">\n",
       "      <th></th>\n",
       "      <th>area</th>\n",
       "      <th>rentType</th>\n",
       "      <th>houseType</th>\n",
       "      <th>houseFloor</th>\n",
       "      <th>totalFloor</th>\n",
       "      <th>houseToward</th>\n",
       "      <th>houseDecoration</th>\n",
       "      <th>region</th>\n",
       "      <th>plate</th>\n",
       "      <th>buildYear</th>\n",
       "      <th>...</th>\n",
       "      <th>tradeLandArea</th>\n",
       "      <th>landTotalPrice</th>\n",
       "      <th>landMeanPrice</th>\n",
       "      <th>totalWorkers</th>\n",
       "      <th>newWorkers</th>\n",
       "      <th>residentPopulation</th>\n",
       "      <th>pv</th>\n",
       "      <th>uv</th>\n",
       "      <th>lookNum</th>\n",
       "      <th>tradeTime</th>\n",
       "    </tr>\n",
       "    <tr>\n",
       "      <th>ID</th>\n",
       "      <th></th>\n",
       "      <th></th>\n",
       "      <th></th>\n",
       "      <th></th>\n",
       "      <th></th>\n",
       "      <th></th>\n",
       "      <th></th>\n",
       "      <th></th>\n",
       "      <th></th>\n",
       "      <th></th>\n",
       "      <th></th>\n",
       "      <th></th>\n",
       "      <th></th>\n",
       "      <th></th>\n",
       "      <th></th>\n",
       "      <th></th>\n",
       "      <th></th>\n",
       "      <th></th>\n",
       "      <th></th>\n",
       "      <th></th>\n",
       "      <th></th>\n",
       "    </tr>\n",
       "  </thead>\n",
       "  <tbody>\n",
       "    <tr>\n",
       "      <th>100309852</th>\n",
       "      <td>68.06</td>\n",
       "      <td>未知方式</td>\n",
       "      <td>2室1厅1卫</td>\n",
       "      <td>0</td>\n",
       "      <td>16</td>\n",
       "      <td>南</td>\n",
       "      <td>其他</td>\n",
       "      <td>RG00001</td>\n",
       "      <td>BK00064</td>\n",
       "      <td>1953</td>\n",
       "      <td>...</td>\n",
       "      <td>0.0</td>\n",
       "      <td>0</td>\n",
       "      <td>0.0000</td>\n",
       "      <td>28248</td>\n",
       "      <td>614</td>\n",
       "      <td>111546</td>\n",
       "      <td>1124.0</td>\n",
       "      <td>284.0</td>\n",
       "      <td>0</td>\n",
       "      <td>2018/11/28</td>\n",
       "    </tr>\n",
       "    <tr>\n",
       "      <th>100307942</th>\n",
       "      <td>125.55</td>\n",
       "      <td>未知方式</td>\n",
       "      <td>3室2厅2卫</td>\n",
       "      <td>1</td>\n",
       "      <td>14</td>\n",
       "      <td>南</td>\n",
       "      <td>简装</td>\n",
       "      <td>RG00002</td>\n",
       "      <td>BK00049</td>\n",
       "      <td>2007</td>\n",
       "      <td>...</td>\n",
       "      <td>0.0</td>\n",
       "      <td>0</td>\n",
       "      <td>0.0000</td>\n",
       "      <td>14823</td>\n",
       "      <td>148</td>\n",
       "      <td>157552</td>\n",
       "      <td>701.0</td>\n",
       "      <td>22.0</td>\n",
       "      <td>1</td>\n",
       "      <td>2018/12/16</td>\n",
       "    </tr>\n",
       "    <tr>\n",
       "      <th>100307764</th>\n",
       "      <td>132.00</td>\n",
       "      <td>未知方式</td>\n",
       "      <td>3室2厅2卫</td>\n",
       "      <td>0</td>\n",
       "      <td>32</td>\n",
       "      <td>南</td>\n",
       "      <td>其他</td>\n",
       "      <td>RG00002</td>\n",
       "      <td>BK00050</td>\n",
       "      <td>暂无信息</td>\n",
       "      <td>...</td>\n",
       "      <td>0.0</td>\n",
       "      <td>0</td>\n",
       "      <td>0.0000</td>\n",
       "      <td>77645</td>\n",
       "      <td>520</td>\n",
       "      <td>131744</td>\n",
       "      <td>57.0</td>\n",
       "      <td>20.0</td>\n",
       "      <td>1</td>\n",
       "      <td>2018/12/22</td>\n",
       "    </tr>\n",
       "    <tr>\n",
       "      <th>100306518</th>\n",
       "      <td>57.00</td>\n",
       "      <td>未知方式</td>\n",
       "      <td>1室1厅1卫</td>\n",
       "      <td>1</td>\n",
       "      <td>17</td>\n",
       "      <td>南</td>\n",
       "      <td>精装</td>\n",
       "      <td>RG00002</td>\n",
       "      <td>BK00051</td>\n",
       "      <td>暂无信息</td>\n",
       "      <td>...</td>\n",
       "      <td>108037.8</td>\n",
       "      <td>332760000</td>\n",
       "      <td>3080.0331</td>\n",
       "      <td>8750</td>\n",
       "      <td>1665</td>\n",
       "      <td>253337</td>\n",
       "      <td>888.0</td>\n",
       "      <td>279.0</td>\n",
       "      <td>9</td>\n",
       "      <td>2018/12/21</td>\n",
       "    </tr>\n",
       "    <tr>\n",
       "      <th>100305262</th>\n",
       "      <td>129.00</td>\n",
       "      <td>未知方式</td>\n",
       "      <td>3室2厅3卫</td>\n",
       "      <td>0</td>\n",
       "      <td>2</td>\n",
       "      <td>南</td>\n",
       "      <td>毛坯</td>\n",
       "      <td>RG00003</td>\n",
       "      <td>BK00044</td>\n",
       "      <td>暂无信息</td>\n",
       "      <td>...</td>\n",
       "      <td>0.0</td>\n",
       "      <td>0</td>\n",
       "      <td>0.0000</td>\n",
       "      <td>800</td>\n",
       "      <td>117</td>\n",
       "      <td>125309</td>\n",
       "      <td>2038.0</td>\n",
       "      <td>480.0</td>\n",
       "      <td>0</td>\n",
       "      <td>2018/11/18</td>\n",
       "    </tr>\n",
       "  </tbody>\n",
       "</table>\n",
       "<p>5 rows × 47 columns</p>\n",
       "</div>"
      ],
      "text/plain": [
       "             area rentType houseType  houseFloor  totalFloor houseToward  \\\n",
       "ID                                                                         \n",
       "100309852   68.06     未知方式    2室1厅1卫           0          16           南   \n",
       "100307942  125.55     未知方式    3室2厅2卫           1          14           南   \n",
       "100307764  132.00     未知方式    3室2厅2卫           0          32           南   \n",
       "100306518   57.00     未知方式    1室1厅1卫           1          17           南   \n",
       "100305262  129.00     未知方式    3室2厅3卫           0           2           南   \n",
       "\n",
       "          houseDecoration   region    plate buildYear     ...      \\\n",
       "ID                                                        ...       \n",
       "100309852              其他  RG00001  BK00064      1953     ...       \n",
       "100307942              简装  RG00002  BK00049      2007     ...       \n",
       "100307764              其他  RG00002  BK00050      暂无信息     ...       \n",
       "100306518              精装  RG00002  BK00051      暂无信息     ...       \n",
       "100305262              毛坯  RG00003  BK00044      暂无信息     ...       \n",
       "\n",
       "           tradeLandArea  landTotalPrice  landMeanPrice  totalWorkers  \\\n",
       "ID                                                                      \n",
       "100309852            0.0               0         0.0000         28248   \n",
       "100307942            0.0               0         0.0000         14823   \n",
       "100307764            0.0               0         0.0000         77645   \n",
       "100306518       108037.8       332760000      3080.0331          8750   \n",
       "100305262            0.0               0         0.0000           800   \n",
       "\n",
       "           newWorkers  residentPopulation      pv     uv  lookNum   tradeTime  \n",
       "ID                                                                             \n",
       "100309852         614              111546  1124.0  284.0        0  2018/11/28  \n",
       "100307942         148              157552   701.0   22.0        1  2018/12/16  \n",
       "100307764         520              131744    57.0   20.0        1  2018/12/22  \n",
       "100306518        1665              253337   888.0  279.0        9  2018/12/21  \n",
       "100305262         117              125309  2038.0  480.0        0  2018/11/18  \n",
       "\n",
       "[5 rows x 47 columns]"
      ]
     },
     "execution_count": 31,
     "metadata": {},
     "output_type": "execute_result"
    }
   ],
   "source": [
    "all_df.head()"
   ]
  },
  {
   "cell_type": "markdown",
   "metadata": {},
   "source": [
    "提取特征六:\"region\",直接one_hot处理"
   ]
  },
  {
   "cell_type": "code",
   "execution_count": 32,
   "metadata": {},
   "outputs": [],
   "source": [
    "#all_df[\"region\"].value_counts()"
   ]
  },
  {
   "cell_type": "markdown",
   "metadata": {},
   "source": [
    "提取特征七:\"plate\""
   ]
  },
  {
   "cell_type": "code",
   "execution_count": 33,
   "metadata": {},
   "outputs": [
    {
     "data": {
      "text/plain": [
       "array(['BK00064', 'BK00049', 'BK00050', 'BK00051', 'BK00044', 'BK00052',\n",
       "       'BK00031', 'BK00028', 'BK00017', 'BK00045', 'BK00027', 'BK00041',\n",
       "       'BK00047', 'BK00009', 'BK00025', 'BK00024', 'BK00014', 'BK00026',\n",
       "       'BK00042', 'BK00046', 'BK00043', 'BK00013', 'BK00012', 'BK00005',\n",
       "       'BK00011', 'BK00010', 'BK00003', 'BK00033', 'BK00053', 'BK00006',\n",
       "       'BK00004', 'BK00002', 'BK00007', 'BK00015', 'BK00016', 'BK00019',\n",
       "       'BK00030', 'BK00048', 'BK00018', 'BK00008', 'BK00029', 'BK00065',\n",
       "       'BK00035', 'BK00036', 'BK00022', 'BK00023', 'BK00054', 'BK00038',\n",
       "       'BK00037', 'BK00034', 'BK00058', 'BK00066', 'BK00039', 'BK00057',\n",
       "       'BK00020', 'BK00059', 'BK00060', 'BK00063', 'BK00055', 'BK00061',\n",
       "       'BK00040', 'BK00056', 'BK00062', 'BK00021', 'BK00032', 'BK00001'],\n",
       "      dtype=object)"
      ]
     },
     "execution_count": 33,
     "metadata": {},
     "output_type": "execute_result"
    }
   ],
   "source": [
    "all_df[\"plate\"].unique()"
   ]
  },
  {
   "cell_type": "markdown",
   "metadata": {},
   "source": [
    "提取特征八:\"buildYear\""
   ]
  },
  {
   "cell_type": "code",
   "execution_count": 34,
   "metadata": {},
   "outputs": [],
   "source": [
    "all_df.loc[all_df[\"buildYear\"] == \"暂无信息\",\"buildYear\"] = 0"
   ]
  },
  {
   "cell_type": "code",
   "execution_count": 35,
   "metadata": {},
   "outputs": [
    {
     "name": "stdout",
     "output_type": "stream",
     "text": [
      "-----------------------------------\n"
     ]
    },
    {
     "data": {
      "text/plain": [
       "array([1953, 2007, 1865, 2003, 2014, 1997, 1993, 1994, 1998, 2000, 1995,\n",
       "       1999, 2015, 1981, 2002, 2010, 2011, 1989, 1983, 2001, 2012, 1996,\n",
       "       2004, 2006, 2009, 2008, 1984, 2017, 1976, 1986, 1988, 1992, 2005,\n",
       "       1987, 2016, 1965, 1990, 1985, 1978, 2013, 1980, 1954, 1982, 1968,\n",
       "       1940, 1966, 1970, 1937, 1979, 1974, 1964, 1991, 1977, 1956, 1930,\n",
       "       1952, 1957, 1936, 1967, 1972, 1975, 1955, 1949, 1912, 1958, 1973,\n",
       "       1932, 1963, 1931, 1926, 1939, 1951, 1960, 1910, 1969, 1920, 1959,\n",
       "       1962, 1961, 1950], dtype=int64)"
      ]
     },
     "execution_count": 35,
     "metadata": {},
     "output_type": "execute_result"
    }
   ],
   "source": [
    "#all_df[\"buildYear\"].value_counts()\n",
    "all_df[\"buildYear\"] =all_df[\"buildYear\"].astype(int)\n",
    "mean_col = all_df[\"buildYear\"].mean()\n",
    "print(\"-----------------------------------\")\n",
    "all_df[\"buildYear\"] = all_df[\"buildYear\"].replace(0,mean_col).astype(int)\n",
    "all_df[\"buildYear\"].unique()"
   ]
  },
  {
   "cell_type": "markdown",
   "metadata": {},
   "source": [
    "后边特征都是数值型,不需要进行one_hot处理,只需处理日期和填补缺失值"
   ]
  },
  {
   "cell_type": "code",
   "execution_count": 36,
   "metadata": {},
   "outputs": [
    {
     "data": {
      "text/plain": [
       "tradeTime           0\n",
       "subwayStationNum    0\n",
       "shopNum             0\n",
       "bankNum             0\n",
       "gymNum              0\n",
       "drugStoreNum        0\n",
       "hospitalNum         0\n",
       "privateSchoolNum    0\n",
       "schoolNum           0\n",
       "interSchoolNum      0\n",
       "dtype: int64"
      ]
     },
     "execution_count": 36,
     "metadata": {},
     "output_type": "execute_result"
    }
   ],
   "source": [
    "#all_df[\"uv\"].describe()\n",
    "all_df[\"uv\"] = all_df[\"uv\"].fillna(all_df[\"uv\"].mean())\n",
    "#all_df[\"pv\"].dtypes\n",
    "all_df[\"pv\"] = all_df[\"pv\"].fillna(all_df[\"pv\"].mean())\n",
    "all_df.isnull().sum().sort_values(ascending=False).head(10)"
   ]
  },
  {
   "cell_type": "code",
   "execution_count": 37,
   "metadata": {},
   "outputs": [],
   "source": [
    "#日期很重要,但是暂时不知道怎么处理,后期再说\n",
    "#all_df[\"tradeTime\"] = pd.to_datetime(all_df[\"tradeTime\"],format =\"%Y/%m/%d\")\n",
    "#all_df[\"tradeTime\"] = pd.to_datetime(all_df['tradeTime'],infer_datetime_format=True)\n",
    "all_df.drop('tradeTime',axis=1, inplace=True)"
   ]
  },
  {
   "cell_type": "code",
   "execution_count": 38,
   "metadata": {
    "scrolled": true
   },
   "outputs": [
    {
     "data": {
      "text/html": [
       "<div>\n",
       "<style scoped>\n",
       "    .dataframe tbody tr th:only-of-type {\n",
       "        vertical-align: middle;\n",
       "    }\n",
       "\n",
       "    .dataframe tbody tr th {\n",
       "        vertical-align: top;\n",
       "    }\n",
       "\n",
       "    .dataframe thead th {\n",
       "        text-align: right;\n",
       "    }\n",
       "</style>\n",
       "<table border=\"1\" class=\"dataframe\">\n",
       "  <thead>\n",
       "    <tr style=\"text-align: right;\">\n",
       "      <th></th>\n",
       "      <th>area</th>\n",
       "      <th>rentType</th>\n",
       "      <th>houseType</th>\n",
       "      <th>houseFloor</th>\n",
       "      <th>totalFloor</th>\n",
       "      <th>houseToward</th>\n",
       "      <th>houseDecoration</th>\n",
       "      <th>region</th>\n",
       "      <th>plate</th>\n",
       "      <th>buildYear</th>\n",
       "      <th>...</th>\n",
       "      <th>tradeLandNum</th>\n",
       "      <th>tradeLandArea</th>\n",
       "      <th>landTotalPrice</th>\n",
       "      <th>landMeanPrice</th>\n",
       "      <th>totalWorkers</th>\n",
       "      <th>newWorkers</th>\n",
       "      <th>residentPopulation</th>\n",
       "      <th>pv</th>\n",
       "      <th>uv</th>\n",
       "      <th>lookNum</th>\n",
       "    </tr>\n",
       "    <tr>\n",
       "      <th>ID</th>\n",
       "      <th></th>\n",
       "      <th></th>\n",
       "      <th></th>\n",
       "      <th></th>\n",
       "      <th></th>\n",
       "      <th></th>\n",
       "      <th></th>\n",
       "      <th></th>\n",
       "      <th></th>\n",
       "      <th></th>\n",
       "      <th></th>\n",
       "      <th></th>\n",
       "      <th></th>\n",
       "      <th></th>\n",
       "      <th></th>\n",
       "      <th></th>\n",
       "      <th></th>\n",
       "      <th></th>\n",
       "      <th></th>\n",
       "      <th></th>\n",
       "      <th></th>\n",
       "    </tr>\n",
       "  </thead>\n",
       "  <tbody>\n",
       "    <tr>\n",
       "      <th>100309852</th>\n",
       "      <td>68.06</td>\n",
       "      <td>未知方式</td>\n",
       "      <td>2室1厅1卫</td>\n",
       "      <td>0</td>\n",
       "      <td>16</td>\n",
       "      <td>南</td>\n",
       "      <td>其他</td>\n",
       "      <td>RG00001</td>\n",
       "      <td>BK00064</td>\n",
       "      <td>1953</td>\n",
       "      <td>...</td>\n",
       "      <td>0</td>\n",
       "      <td>0.0</td>\n",
       "      <td>0</td>\n",
       "      <td>0.0000</td>\n",
       "      <td>28248</td>\n",
       "      <td>614</td>\n",
       "      <td>111546</td>\n",
       "      <td>1124.0</td>\n",
       "      <td>284.0</td>\n",
       "      <td>0</td>\n",
       "    </tr>\n",
       "    <tr>\n",
       "      <th>100307942</th>\n",
       "      <td>125.55</td>\n",
       "      <td>未知方式</td>\n",
       "      <td>3室2厅2卫</td>\n",
       "      <td>1</td>\n",
       "      <td>14</td>\n",
       "      <td>南</td>\n",
       "      <td>简装</td>\n",
       "      <td>RG00002</td>\n",
       "      <td>BK00049</td>\n",
       "      <td>2007</td>\n",
       "      <td>...</td>\n",
       "      <td>0</td>\n",
       "      <td>0.0</td>\n",
       "      <td>0</td>\n",
       "      <td>0.0000</td>\n",
       "      <td>14823</td>\n",
       "      <td>148</td>\n",
       "      <td>157552</td>\n",
       "      <td>701.0</td>\n",
       "      <td>22.0</td>\n",
       "      <td>1</td>\n",
       "    </tr>\n",
       "    <tr>\n",
       "      <th>100307764</th>\n",
       "      <td>132.00</td>\n",
       "      <td>未知方式</td>\n",
       "      <td>3室2厅2卫</td>\n",
       "      <td>0</td>\n",
       "      <td>32</td>\n",
       "      <td>南</td>\n",
       "      <td>其他</td>\n",
       "      <td>RG00002</td>\n",
       "      <td>BK00050</td>\n",
       "      <td>1865</td>\n",
       "      <td>...</td>\n",
       "      <td>0</td>\n",
       "      <td>0.0</td>\n",
       "      <td>0</td>\n",
       "      <td>0.0000</td>\n",
       "      <td>77645</td>\n",
       "      <td>520</td>\n",
       "      <td>131744</td>\n",
       "      <td>57.0</td>\n",
       "      <td>20.0</td>\n",
       "      <td>1</td>\n",
       "    </tr>\n",
       "    <tr>\n",
       "      <th>100306518</th>\n",
       "      <td>57.00</td>\n",
       "      <td>未知方式</td>\n",
       "      <td>1室1厅1卫</td>\n",
       "      <td>1</td>\n",
       "      <td>17</td>\n",
       "      <td>南</td>\n",
       "      <td>精装</td>\n",
       "      <td>RG00002</td>\n",
       "      <td>BK00051</td>\n",
       "      <td>1865</td>\n",
       "      <td>...</td>\n",
       "      <td>1</td>\n",
       "      <td>108037.8</td>\n",
       "      <td>332760000</td>\n",
       "      <td>3080.0331</td>\n",
       "      <td>8750</td>\n",
       "      <td>1665</td>\n",
       "      <td>253337</td>\n",
       "      <td>888.0</td>\n",
       "      <td>279.0</td>\n",
       "      <td>9</td>\n",
       "    </tr>\n",
       "    <tr>\n",
       "      <th>100305262</th>\n",
       "      <td>129.00</td>\n",
       "      <td>未知方式</td>\n",
       "      <td>3室2厅3卫</td>\n",
       "      <td>0</td>\n",
       "      <td>2</td>\n",
       "      <td>南</td>\n",
       "      <td>毛坯</td>\n",
       "      <td>RG00003</td>\n",
       "      <td>BK00044</td>\n",
       "      <td>1865</td>\n",
       "      <td>...</td>\n",
       "      <td>0</td>\n",
       "      <td>0.0</td>\n",
       "      <td>0</td>\n",
       "      <td>0.0000</td>\n",
       "      <td>800</td>\n",
       "      <td>117</td>\n",
       "      <td>125309</td>\n",
       "      <td>2038.0</td>\n",
       "      <td>480.0</td>\n",
       "      <td>0</td>\n",
       "    </tr>\n",
       "  </tbody>\n",
       "</table>\n",
       "<p>5 rows × 46 columns</p>\n",
       "</div>"
      ],
      "text/plain": [
       "             area rentType houseType  houseFloor  totalFloor houseToward  \\\n",
       "ID                                                                         \n",
       "100309852   68.06     未知方式    2室1厅1卫           0          16           南   \n",
       "100307942  125.55     未知方式    3室2厅2卫           1          14           南   \n",
       "100307764  132.00     未知方式    3室2厅2卫           0          32           南   \n",
       "100306518   57.00     未知方式    1室1厅1卫           1          17           南   \n",
       "100305262  129.00     未知方式    3室2厅3卫           0           2           南   \n",
       "\n",
       "          houseDecoration   region    plate  buildYear   ...     tradeLandNum  \\\n",
       "ID                                                       ...                    \n",
       "100309852              其他  RG00001  BK00064       1953   ...                0   \n",
       "100307942              简装  RG00002  BK00049       2007   ...                0   \n",
       "100307764              其他  RG00002  BK00050       1865   ...                0   \n",
       "100306518              精装  RG00002  BK00051       1865   ...                1   \n",
       "100305262              毛坯  RG00003  BK00044       1865   ...                0   \n",
       "\n",
       "           tradeLandArea  landTotalPrice  landMeanPrice  totalWorkers  \\\n",
       "ID                                                                      \n",
       "100309852            0.0               0         0.0000         28248   \n",
       "100307942            0.0               0         0.0000         14823   \n",
       "100307764            0.0               0         0.0000         77645   \n",
       "100306518       108037.8       332760000      3080.0331          8750   \n",
       "100305262            0.0               0         0.0000           800   \n",
       "\n",
       "           newWorkers  residentPopulation      pv     uv  lookNum  \n",
       "ID                                                                 \n",
       "100309852         614              111546  1124.0  284.0        0  \n",
       "100307942         148              157552   701.0   22.0        1  \n",
       "100307764         520              131744    57.0   20.0        1  \n",
       "100306518        1665              253337   888.0  279.0        9  \n",
       "100305262         117              125309  2038.0  480.0        0  \n",
       "\n",
       "[5 rows x 46 columns]"
      ]
     },
     "execution_count": 38,
     "metadata": {},
     "output_type": "execute_result"
    }
   ],
   "source": [
    "all_df.head()"
   ]
  },
  {
   "cell_type": "code",
   "execution_count": 39,
   "metadata": {},
   "outputs": [
    {
     "name": "stdout",
     "output_type": "stream",
     "text": [
      "(41440, 1)\n"
     ]
    }
   ],
   "source": [
    "print(y_train.shape)"
   ]
  },
  {
   "cell_type": "code",
   "execution_count": 55,
   "metadata": {},
   "outputs": [
    {
     "name": "stdout",
     "output_type": "stream",
     "text": [
      " 1) saleSecHouseNum                0.427643\n",
      " 2) totalTradeArea                 0.053964\n",
      " 3) totalTradeMoney                0.050183\n",
      " 4) tradeMeanPrice                 0.049416\n",
      " 5) tradeSecNum                    0.049123\n",
      " 6) totalNewTradeMoney             0.038297\n",
      " 7) remainNewNum                   0.038000\n",
      " 8) totalNewTradeArea              0.037191\n",
      " 9) tradeNewMeanPrice              0.033461\n",
      "10) tradeNewNum                    0.029980\n",
      "11) busStationNum                  0.015983\n",
      "12) shopNum                        0.014533\n",
      "13) drugStoreNum                   0.013917\n",
      "14) supplyNewNum                   0.013122\n",
      "15) schoolNum                      0.012778\n",
      "16) bankNum                        0.012652\n",
      "17) superMarketNum                 0.012637\n",
      "18) hospitalNum                    0.012207\n",
      "19) gymNum                         0.011854\n",
      "20) privateSchoolNum               0.011600\n",
      "21) parkNum                        0.011503\n",
      "22) mallNum                        0.010788\n",
      "23) subwayStationNum               0.010454\n",
      "24) interSchoolNum                 0.008395\n",
      "25) tradeLandArea                  0.006396\n",
      "26) supplyLandArea                 0.005747\n",
      "27) supplyLandNum                  0.004556\n",
      "28) tradeLandNum                   0.003618\n"
     ]
    }
   ],
   "source": [
    "from sklearn.model_selection import train_test_split\n",
    "from sklearn.ensemble import RandomForestClassifier\n",
    "x, y = train_df.iloc[:, 12:40].values, train_df.iloc[:, 48].values\n",
    "\n",
    "x_train, x_test, Y_train, Y_test = train_test_split(x, y, test_size = 0.3, random_state = 0)\n",
    "feat_labels = train_df.columns[12:40]\n",
    "forest = RandomForestClassifier(n_estimators=10, random_state=0, n_jobs=-1)\n",
    "forest.fit(x_train, Y_train)\n",
    "\n",
    "\n",
    "importances = forest.feature_importances_\n",
    "indices = np.argsort(importances)[::-1]\n",
    "for f in range(x_train.shape[1]):\n",
    "    print(\"%2d) %-*s %f\" % (f + 1, 30, feat_labels[indices[f]], importances[indices[f]]))\n",
    "\n",
    "#print(x_train.shape[1])"
   ]
  },
  {
   "cell_type": "code",
   "execution_count": 59,
   "metadata": {},
   "outputs": [
    {
     "data": {
      "image/png": "[encoded data removed]",
      "text/plain": [
       "<Figure size 1080x360 with 1 Axes>"
      ]
     },
     "metadata": {
      "needs_background": "light"
     },
     "output_type": "display_data"
    }
   ],
   "source": [
    "import matplotlib.pyplot as plt\n",
    "#plt.title(\"feature_importance\")\n",
    "#plt.bar(range(x_train.shape[1]),importances[indices],color = \"lightblue\",align = \"center\")\n",
    "#plt.xticks(,feat_labels,rotation = 90)\n",
    "#plt.xlim([-1,x_train.shape[1]])\n",
    "#plt.tight_layout()\n",
    "#ply.show()\n",
    "#以下代码参考泰坦尼克号案例\n",
    "fig = plt.figure(figsize=(15,5))\n",
    "plt.title(\"feature_importance\")\n",
    "plt.bar(range(x_train.shape[1]), importances[indices],color = \"blue\",align = \"center\")\n",
    "plt.xticks(range(x_train.shape[1]), feat_labels[indices], rotation=90)#设置横坐标的范围和各个直方图对应的名称\n",
    "plt.xlabel(\"feature\")\n",
    "plt.ylabel(\"importance\")\n",
    "plt.show()"
   ]
  },
  {
   "cell_type": "code",
   "execution_count": 42,
   "metadata": {},
   "outputs": [
    {
     "name": "stdout",
     "output_type": "stream",
     "text": [
      "(41440, 1)\n"
     ]
    }
   ],
   "source": [
    "print(y_train.shape)"
   ]
  },
  {
   "cell_type": "code",
   "execution_count": 43,
   "metadata": {},
   "outputs": [],
   "source": [
    "feature =all_df[[\"area\",\"houseType\",\"houseFloor\",\"totalFloor\",\"houseToward\",\"region\",\"plate\",\"buildYear\",\"subwayStationNum\",\"saleSecHouseNum\"]].copy()"
   ]
  },
  {
   "cell_type": "code",
   "execution_count": 44,
   "metadata": {},
   "outputs": [
    {
     "data": {
      "text/html": [
       "<div>\n",
       "<style scoped>\n",
       "    .dataframe tbody tr th:only-of-type {\n",
       "        vertical-align: middle;\n",
       "    }\n",
       "\n",
       "    .dataframe tbody tr th {\n",
       "        vertical-align: top;\n",
       "    }\n",
       "\n",
       "    .dataframe thead th {\n",
       "        text-align: right;\n",
       "    }\n",
       "</style>\n",
       "<table border=\"1\" class=\"dataframe\">\n",
       "  <thead>\n",
       "    <tr style=\"text-align: right;\">\n",
       "      <th></th>\n",
       "      <th>area</th>\n",
       "      <th>houseFloor</th>\n",
       "      <th>totalFloor</th>\n",
       "      <th>buildYear</th>\n",
       "      <th>subwayStationNum</th>\n",
       "      <th>saleSecHouseNum</th>\n",
       "      <th>houseType_0室0厅1卫</th>\n",
       "      <th>houseType_1室0厅0卫</th>\n",
       "      <th>houseType_1室0厅1卫</th>\n",
       "      <th>houseType_1室1厅0卫</th>\n",
       "      <th>...</th>\n",
       "      <th>plate_BK00057</th>\n",
       "      <th>plate_BK00058</th>\n",
       "      <th>plate_BK00059</th>\n",
       "      <th>plate_BK00060</th>\n",
       "      <th>plate_BK00061</th>\n",
       "      <th>plate_BK00062</th>\n",
       "      <th>plate_BK00063</th>\n",
       "      <th>plate_BK00064</th>\n",
       "      <th>plate_BK00065</th>\n",
       "      <th>plate_BK00066</th>\n",
       "    </tr>\n",
       "    <tr>\n",
       "      <th>ID</th>\n",
       "      <th></th>\n",
       "      <th></th>\n",
       "      <th></th>\n",
       "      <th></th>\n",
       "      <th></th>\n",
       "      <th></th>\n",
       "      <th></th>\n",
       "      <th></th>\n",
       "      <th></th>\n",
       "      <th></th>\n",
       "      <th></th>\n",
       "      <th></th>\n",
       "      <th></th>\n",
       "      <th></th>\n",
       "      <th></th>\n",
       "      <th></th>\n",
       "      <th></th>\n",
       "      <th></th>\n",
       "      <th></th>\n",
       "      <th></th>\n",
       "      <th></th>\n",
       "    </tr>\n",
       "  </thead>\n",
       "  <tbody>\n",
       "    <tr>\n",
       "      <th>100309852</th>\n",
       "      <td>68.06</td>\n",
       "      <td>0</td>\n",
       "      <td>16</td>\n",
       "      <td>1953</td>\n",
       "      <td>7</td>\n",
       "      <td>0</td>\n",
       "      <td>0</td>\n",
       "      <td>0</td>\n",
       "      <td>0</td>\n",
       "      <td>0</td>\n",
       "      <td>...</td>\n",
       "      <td>0</td>\n",
       "      <td>0</td>\n",
       "      <td>0</td>\n",
       "      <td>0</td>\n",
       "      <td>0</td>\n",
       "      <td>0</td>\n",
       "      <td>0</td>\n",
       "      <td>1</td>\n",
       "      <td>0</td>\n",
       "      <td>0</td>\n",
       "    </tr>\n",
       "    <tr>\n",
       "      <th>100307942</th>\n",
       "      <td>125.55</td>\n",
       "      <td>1</td>\n",
       "      <td>14</td>\n",
       "      <td>2007</td>\n",
       "      <td>2</td>\n",
       "      <td>0</td>\n",
       "      <td>0</td>\n",
       "      <td>0</td>\n",
       "      <td>0</td>\n",
       "      <td>0</td>\n",
       "      <td>...</td>\n",
       "      <td>0</td>\n",
       "      <td>0</td>\n",
       "      <td>0</td>\n",
       "      <td>0</td>\n",
       "      <td>0</td>\n",
       "      <td>0</td>\n",
       "      <td>0</td>\n",
       "      <td>0</td>\n",
       "      <td>0</td>\n",
       "      <td>0</td>\n",
       "    </tr>\n",
       "    <tr>\n",
       "      <th>100307764</th>\n",
       "      <td>132.00</td>\n",
       "      <td>0</td>\n",
       "      <td>32</td>\n",
       "      <td>1865</td>\n",
       "      <td>6</td>\n",
       "      <td>3</td>\n",
       "      <td>0</td>\n",
       "      <td>0</td>\n",
       "      <td>0</td>\n",
       "      <td>0</td>\n",
       "      <td>...</td>\n",
       "      <td>0</td>\n",
       "      <td>0</td>\n",
       "      <td>0</td>\n",
       "      <td>0</td>\n",
       "      <td>0</td>\n",
       "      <td>0</td>\n",
       "      <td>0</td>\n",
       "      <td>0</td>\n",
       "      <td>0</td>\n",
       "      <td>0</td>\n",
       "    </tr>\n",
       "    <tr>\n",
       "      <th>100306518</th>\n",
       "      <td>57.00</td>\n",
       "      <td>1</td>\n",
       "      <td>17</td>\n",
       "      <td>1865</td>\n",
       "      <td>3</td>\n",
       "      <td>0</td>\n",
       "      <td>0</td>\n",
       "      <td>0</td>\n",
       "      <td>0</td>\n",
       "      <td>0</td>\n",
       "      <td>...</td>\n",
       "      <td>0</td>\n",
       "      <td>0</td>\n",
       "      <td>0</td>\n",
       "      <td>0</td>\n",
       "      <td>0</td>\n",
       "      <td>0</td>\n",
       "      <td>0</td>\n",
       "      <td>0</td>\n",
       "      <td>0</td>\n",
       "      <td>0</td>\n",
       "    </tr>\n",
       "    <tr>\n",
       "      <th>100305262</th>\n",
       "      <td>129.00</td>\n",
       "      <td>0</td>\n",
       "      <td>2</td>\n",
       "      <td>1865</td>\n",
       "      <td>0</td>\n",
       "      <td>1</td>\n",
       "      <td>0</td>\n",
       "      <td>0</td>\n",
       "      <td>0</td>\n",
       "      <td>0</td>\n",
       "      <td>...</td>\n",
       "      <td>0</td>\n",
       "      <td>0</td>\n",
       "      <td>0</td>\n",
       "      <td>0</td>\n",
       "      <td>0</td>\n",
       "      <td>0</td>\n",
       "      <td>0</td>\n",
       "      <td>0</td>\n",
       "      <td>0</td>\n",
       "      <td>0</td>\n",
       "    </tr>\n",
       "  </tbody>\n",
       "</table>\n",
       "<p>5 rows × 203 columns</p>\n",
       "</div>"
      ],
      "text/plain": [
       "             area  houseFloor  totalFloor  buildYear  subwayStationNum  \\\n",
       "ID                                                                       \n",
       "100309852   68.06           0          16       1953                 7   \n",
       "100307942  125.55           1          14       2007                 2   \n",
       "100307764  132.00           0          32       1865                 6   \n",
       "100306518   57.00           1          17       1865                 3   \n",
       "100305262  129.00           0           2       1865                 0   \n",
       "\n",
       "           saleSecHouseNum  houseType_0室0厅1卫  houseType_1室0厅0卫  \\\n",
       "ID                                                               \n",
       "100309852                0                 0                 0   \n",
       "100307942                0                 0                 0   \n",
       "100307764                3                 0                 0   \n",
       "100306518                0                 0                 0   \n",
       "100305262                1                 0                 0   \n",
       "\n",
       "           houseType_1室0厅1卫  houseType_1室1厅0卫      ...        plate_BK00057  \\\n",
       "ID                                                 ...                        \n",
       "100309852                 0                 0      ...                    0   \n",
       "100307942                 0                 0      ...                    0   \n",
       "100307764                 0                 0      ...                    0   \n",
       "100306518                 0                 0      ...                    0   \n",
       "100305262                 0                 0      ...                    0   \n",
       "\n",
       "           plate_BK00058  plate_BK00059  plate_BK00060  plate_BK00061  \\\n",
       "ID                                                                      \n",
       "100309852              0              0              0              0   \n",
       "100307942              0              0              0              0   \n",
       "100307764              0              0              0              0   \n",
       "100306518              0              0              0              0   \n",
       "100305262              0              0              0              0   \n",
       "\n",
       "           plate_BK00062  plate_BK00063  plate_BK00064  plate_BK00065  \\\n",
       "ID                                                                      \n",
       "100309852              0              0              1              0   \n",
       "100307942              0              0              0              0   \n",
       "100307764              0              0              0              0   \n",
       "100306518              0              0              0              0   \n",
       "100305262              0              0              0              0   \n",
       "\n",
       "           plate_BK00066  \n",
       "ID                        \n",
       "100309852              0  \n",
       "100307942              0  \n",
       "100307764              0  \n",
       "100306518              0  \n",
       "100305262              0  \n",
       "\n",
       "[5 rows x 203 columns]"
      ]
     },
     "execution_count": 44,
     "metadata": {},
     "output_type": "execute_result"
    }
   ],
   "source": [
    "all_dummy_df = pd.get_dummies(feature)\n",
    "all_dummy_df.head()"
   ]
  },
  {
   "cell_type": "code",
   "execution_count": 634,
   "metadata": {},
   "outputs": [
    {
     "name": "stdout",
     "output_type": "stream",
     "text": [
      "(41440, 1)\n"
     ]
    }
   ],
   "source": [
    "print(y_train.shape)"
   ]
  },
  {
   "cell_type": "code",
   "execution_count": 635,
   "metadata": {},
   "outputs": [],
   "source": [
    "dummy_train_df = all_dummy_df.loc[train_df.index]   #one_hot处理后的训练集\n",
    "dummy_test_df = all_dummy_df.loc[test_df.index]     #one_hot处理后的测试集"
   ]
  },
  {
   "cell_type": "code",
   "execution_count": 636,
   "metadata": {},
   "outputs": [
    {
     "data": {
      "text/plain": [
       "(41440, 1)"
      ]
     },
     "execution_count": 636,
     "metadata": {},
     "output_type": "execute_result"
    }
   ],
   "source": [
    "#print(dummy_train_df.shape)\n",
    "y_train.shape"
   ]
  },
  {
   "cell_type": "markdown",
   "metadata": {},
   "source": [
    "# 建立模型"
   ]
  },
  {
   "cell_type": "code",
   "execution_count": 637,
   "metadata": {},
   "outputs": [
    {
     "data": {
      "image/png": "[encoded data removed]",
      "text/plain": [
       "<Figure size 432x288 with 1 Axes>"
      ]
     },
     "metadata": {
      "needs_background": "light"
     },
     "output_type": "display_data"
    }
   ],
   "source": [
    "from xgboost import plot_importance\n",
    "X_train, X_test, y_train, y_test = train_test_split(dummy_train_df, y_train, test_size=0.2, random_state=0)\n",
    " \n",
    "model = xgb.XGBRegressor(\n",
    "    max_depth=5, \n",
    "    learning_rate=0.1, \n",
    "    n_estimators=160, \n",
    "    silent=True, \n",
    "    objective='reg:gamma')\n",
    "model.fit(X_train, y_train)\n",
    " \n",
    "# 对测试集进行预测\n",
    "ans = model.predict(X_test)\n",
    " \n",
    "# 显示重要特征\n",
    "plot_importance(model)\n",
    "plt.show()"
   ]
  },
  {
   "cell_type": "code",
   "execution_count": 638,
   "metadata": {},
   "outputs": [],
   "source": [
    "y_pro = model.predict(dummy_test_df)"
   ]
  },
  {
   "cell_type": "code",
   "execution_count": 641,
   "metadata": {},
   "outputs": [
    {
     "data": {
      "text/html": [
       "<div>\n",
       "<style scoped>\n",
       "    .dataframe tbody tr th:only-of-type {\n",
       "        vertical-align: middle;\n",
       "    }\n",
       "\n",
       "    .dataframe tbody tr th {\n",
       "        vertical-align: top;\n",
       "    }\n",
       "\n",
       "    .dataframe thead th {\n",
       "        text-align: right;\n",
       "    }\n",
       "</style>\n",
       "<table border=\"1\" class=\"dataframe\">\n",
       "  <thead>\n",
       "    <tr style=\"text-align: right;\">\n",
       "      <th></th>\n",
       "      <th>0</th>\n",
       "    </tr>\n",
       "  </thead>\n",
       "  <tbody>\n",
       "    <tr>\n",
       "      <th>0</th>\n",
       "      <td>3788.628906</td>\n",
       "    </tr>\n",
       "    <tr>\n",
       "      <th>1</th>\n",
       "      <td>4988.938477</td>\n",
       "    </tr>\n",
       "    <tr>\n",
       "      <th>2</th>\n",
       "      <td>6044.888672</td>\n",
       "    </tr>\n",
       "    <tr>\n",
       "      <th>3</th>\n",
       "      <td>3953.898682</td>\n",
       "    </tr>\n",
       "    <tr>\n",
       "      <th>4</th>\n",
       "      <td>4861.579102</td>\n",
       "    </tr>\n",
       "  </tbody>\n",
       "</table>\n",
       "</div>"
      ],
      "text/plain": [
       "             0\n",
       "0  3788.628906\n",
       "1  4988.938477\n",
       "2  6044.888672\n",
       "3  3953.898682\n",
       "4  4861.579102"
      ]
     },
     "execution_count": 641,
     "metadata": {},
     "output_type": "execute_result"
    }
   ],
   "source": [
    "submission_df = pd.DataFrame(data = y_pro)\n",
    "submission_df.head()"
   ]
  },
  {
   "cell_type": "code",
   "execution_count": 642,
   "metadata": {},
   "outputs": [],
   "source": [
    "submission_df.to_csv(\"C:/Users/Administrator/future/output/submit.csv\",index =None,header =None)"
   ]
  },
  {
   "cell_type": "code",
   "execution_count": 643,
   "metadata": {},
   "outputs": [
    {
     "data": {
      "text/html": [
       "<div>\n",
       "<style scoped>\n",
       "    .dataframe tbody tr th:only-of-type {\n",
       "        vertical-align: middle;\n",
       "    }\n",
       "\n",
       "    .dataframe tbody tr th {\n",
       "        vertical-align: top;\n",
       "    }\n",
       "\n",
       "    .dataframe thead th {\n",
       "        text-align: right;\n",
       "    }\n",
       "</style>\n",
       "<table border=\"1\" class=\"dataframe\">\n",
       "  <thead>\n",
       "    <tr style=\"text-align: right;\">\n",
       "      <th></th>\n",
       "      <th>0</th>\n",
       "    </tr>\n",
       "  </thead>\n",
       "  <tbody>\n",
       "    <tr>\n",
       "      <th>0</th>\n",
       "      <td>3788.628906</td>\n",
       "    </tr>\n",
       "    <tr>\n",
       "      <th>1</th>\n",
       "      <td>4988.938477</td>\n",
       "    </tr>\n",
       "    <tr>\n",
       "      <th>2</th>\n",
       "      <td>6044.888672</td>\n",
       "    </tr>\n",
       "    <tr>\n",
       "      <th>3</th>\n",
       "      <td>3953.898682</td>\n",
       "    </tr>\n",
       "    <tr>\n",
       "      <th>4</th>\n",
       "      <td>4861.579102</td>\n",
       "    </tr>\n",
       "  </tbody>\n",
       "</table>\n",
       "</div>"
      ],
      "text/plain": [
       "             0\n",
       "0  3788.628906\n",
       "1  4988.938477\n",
       "2  6044.888672\n",
       "3  3953.898682\n",
       "4  4861.579102"
      ]
     },
     "execution_count": 643,
     "metadata": {},
     "output_type": "execute_result"
    }
   ],
   "source": [
    "submission_df.head(5)"
   ]
  },
  {
   "cell_type": "code",
   "execution_count": null,
   "metadata": {},
   "outputs": [],
   "source": []
  },
  {
   "cell_type": "code",
   "execution_count": null,
   "metadata": {},
   "outputs": [],
   "source": []
  },
  {
   "cell_type": "code",
   "execution_count": null,
   "metadata": {},
   "outputs": [],
   "source": []
  },
  {
   "cell_type": "code",
   "execution_count": null,
   "metadata": {},
   "outputs": [],
   "source": [
    "feature.to_csv(\"C:/Users/Administrator/future/output/feature_engineer.csv\",index =None,header =None)"
   ]
  },
  {
   "cell_type": "code",
   "execution_count": null,
   "metadata": {},
   "outputs": [],
   "source": [
    "feature.head(5)"
   ]
  },
  {
   "cell_type": "code",
   "execution_count": null,
   "metadata": {},
   "outputs": [],
   "source": [
    "train_df[\"houseType\"] = train_df[\"houseType\"].apply(lambda x: x.split(' ')[0])\n",
    "train_df[\"houseType\"].head(10)"
   ]
  },
  {
   "cell_type": "code",
   "execution_count": null,
   "metadata": {},
   "outputs": [],
   "source": []
  },
  {
   "cell_type": "code",
   "execution_count": null,
   "metadata": {},
   "outputs": [],
   "source": []
  }
 ],
 "metadata": {
  "kernelspec": {
   "display_name": "Python 3",
   "language": "python",
   "name": "python3"
  },
  "language_info": {
   "codemirror_mode": {
    "name": "ipython",
    "version": 3
   },
   "file_extension": ".py",
   "mimetype": "text/x-python",
   "name": "python",
   "nbconvert_exporter": "python",
   "pygments_lexer": "ipython3",
   "version": "3.7.1"
  }
 },
 "nbformat": 4,
 "nbformat_minor": 2
}
